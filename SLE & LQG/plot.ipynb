{
 "cells": [
  {
   "cell_type": "code",
   "execution_count": 2,
   "metadata": {
    "ExecuteTime": {
     "end_time": "2020-11-27T06:45:09.348717Z",
     "start_time": "2020-11-27T06:45:08.857492Z"
    }
   },
   "outputs": [],
   "source": [
    "import numpy as np\n",
    "import numpy.linalg as alg\n",
    "import numpy.random as r\n",
    "import scipy.linalg as alg\n",
    "import scipy.sparse as spa\n",
    "import torch\n",
    "import torch.nn as nn\n",
    "import functools\n",
    "from matplotlib import pyplot as plt \n",
    "from matplotlib import cm\n",
    "from time import time\n",
    "from scipy.linalg import lu as lu\n",
    "from scipy.linalg import solve_triangular as st\n",
    "from scipy.linalg import solve_triangular as ss\n",
    "from scipy.sparse.linalg import spsolve as sps\n",
    "from torch.autograd import Variable\n",
    "from torch.nn.utils import clip_grad_norm\n",
    "from sys import getsizeof"
   ]
  },
  {
   "cell_type": "markdown",
   "metadata": {},
   "source": [
    "# Plot issue"
   ]
  },
  {
   "cell_type": "markdown",
   "metadata": {},
   "source": [
    "## Basic plot format: For casual numerical experiments"
   ]
  },
  {
   "cell_type": "code",
   "execution_count": null,
   "metadata": {},
   "outputs": [],
   "source": [
    "fig = plt.figure()\n",
    "ax  = fig.add_subplot(111)\n",
    "ax.plot(np.log10(h), np.log10(error))\n",
    "ax.set_xlabel('log h')\n",
    "ax.set_ylabel('log error')\n",
    "#ax.axis([1750, 1800, -2.3, -0.6])\n",
    "ax.set_title('Biased-difference + Double-precision',fontsize=12)\n",
    "ax.legend(bbox_to_anchor = (0.7, 0.9), loc = 'upper left', borderaxespad = 0.)\n",
    "plt.show()"
   ]
  },
  {
   "cell_type": "markdown",
   "metadata": {},
   "source": [
    "## Basic plot format: For numerical experiments in paper work"
   ]
  },
  {
   "cell_type": "code",
   "execution_count": null,
   "metadata": {},
   "outputs": [],
   "source": [
    "from IPython.display import set_matplotlib_formats\n",
    "set_matplotlib_formats('pdf', 'svg')\n",
    "import matplotlib\n",
    "import seaborn as sns\n",
    "  \n",
    "sns.set(font_scale=1.3)\n",
    "sns.set_style(\"darkgrid\", {\"axes.facecolor\": \".95\"})\n",
    "\n",
    "import matplotlib.pyplot as plt\n",
    "\n",
    "\n",
    "def Format_plot(x=None, y=None): \n",
    "    # plt.grid(False)\n",
    "    ax = plt.gca()\n",
    "    fig.subplots_adjust(bottom = 0.15, left=0.2)\n",
    "    if x is not None:\n",
    "        plt.xlabel(x, fontsize=20)\n",
    "    if y is not None:\n",
    "        plt.ylabel(y, fontsize=20)\n",
    "\n",
    "def Finalize_plot(shape = (1.5, 1),legend_posi = (0.7, 0.9)):\n",
    "    plt.rcParams['savefig.dpi'] = 300\n",
    "    plt.rcParams['figure.dpi']  = 300 \n",
    "    plt.legend(bbox_to_anchor = legend_posi, loc = 'upper left', borderaxespad = 0.)\n",
    "    plt.gcf().set_size_inches(\n",
    "                                shape[0] * 1 * plt.gcf().get_size_inches()[1], \n",
    "                                shape[1] * 1 * plt.gcf().get_size_inches()[1])\n",
    "    plt.tight_layout()\n",
    "\n",
    "fig = plt.figure()\n",
    "ax  = fig.add_subplot(111)\n",
    "fig.subplots_adjust(bottom = 0.15, left=0.2)\n",
    "ax.plot(np.log10(MSE_hist[1750:1799])/2, label = 'MSE')\n",
    "ax.plot(np.log10(MNE_hist[1750:1799]), label = 'MNE')\n",
    "ax.set_xlabel('epoch')\n",
    "ax.set_ylabel('log-error')\n",
    "ax.axis([0, 10, -2.3, -0.6])\n",
    "#ax.axis([1750, 1800, -2.3, -0.6])\n",
    "plt.legend(bbox_to_anchor = (0.7, 0.9), loc = 'upper left', borderaxespad = 0.)\n",
    "plt.rcParams['savefig.dpi'] = 300\n",
    "plt.rcParams['figure.dpi'] = 300\n",
    "format_plot('epoch', 'log-error')\n",
    "finalize_plot((0.85, 0.6))\n",
    "plt.savefig('loss.jpg', dpi = 1000)\n",
    "plt.show()"
   ]
  },
  {
   "cell_type": "markdown",
   "metadata": {},
   "source": [
    "## Text in plt"
   ]
  },
  {
   "cell_type": "code",
   "execution_count": 3,
   "metadata": {
    "ExecuteTime": {
     "end_time": "2020-11-27T06:45:10.928314Z",
     "start_time": "2020-11-27T06:45:10.577646Z"
    },
    "collapsed": true
   },
   "outputs": [
    {
     "data": {
      "image/png": "[encoded data removed]",
      "text/plain": [
       "<Figure size 432x288 with 1 Axes>"
      ]
     },
     "metadata": {
      "needs_background": "light"
     },
     "output_type": "display_data"
    }
   ],
   "source": [
    "# Set titles for the figure and the subplot respectively\n",
    "fig.suptitle('bold figure suptitle', fontsize=14, fontweight='bold')\n",
    "locs = ['center', 'left', 'right']\n",
    "ax.set_title('Title with loc at '+loc, loc=loc, pad=30)\n",
    "ax.set_xlabel('xlabel', labelpad = 12)              # labelpad is for moving the label position\n",
    "ax.set_ylabel(r'$\\int\\ Y^2\\ dt\\ \\ [V^2 s] \\n$')     # also support latex\n",
    "\n",
    "\n",
    "# Set both x- and y-axis limits to [0, 10] instead of default [0, 1]\n",
    "# This set the range for plot instead of the label to display\n",
    "ax.axis([0, 10, 0, 10]) \n",
    "# This sets the ticks rather than only the range\n",
    "ax.xaxis.set_ticks(np.arange(0., 8.1, 2.))\n",
    "ax.xaxis.set_major_formatter('{x:1.1f}')\n",
    "\n",
    "# Also non-number of tick\n",
    "import datetime\n",
    "base = datetime.datetime(2017, 1, 1, 0, 0, 1)\n",
    "time = [base + datetime.timedelta(days=x) for x in range(len(x1))]\n",
    "ax.plot(time, y1)\n",
    "ax.tick_params(axis='x', rotation=70)\n",
    "\n",
    "import matplotlib.dates as mdates\n",
    "locator = mdates.DayLocator(bymonthday=[1, 15])\n",
    "formatter = mdates.DateFormatter('%b %d')\n",
    "ax.xaxis.set_major_locator(locator)\n",
    "ax.xaxis.set_major_formatter(formatter)\n",
    "ax.plot(time, y1)\n",
    "ax.tick_params(axis='x', rotation=70)\n",
    "\n",
    "\n",
    "# Below is different type of text in plt\n",
    "ax.text(3, 8, 'boxed italics text in data coords', style='italic',\n",
    "        bbox={'facecolor': 'red', 'alpha': 0.5, 'pad': 10})\n",
    "ax.text(2, 6, r'an equation: $E=mc^2$', fontsize=15)\n",
    "ax.text(3, 2, 'unicode: Institut für Festkörperphysik')\n",
    "ax.text(0.95, 0.01, 'colored text in axes coords',\n",
    "        verticalalignment='bottom', horizontalalignment='right',\n",
    "        transform=ax.transAxes,\n",
    "        color='green', fontsize=15)\n",
    "ax.plot([2], [1], 'o')\n",
    "ax.annotate('annotate', xy=(2, 1), xytext=(3, 4),\n",
    "            arrowprops=dict(facecolor='black', shrink=0.05))\n",
    "\n",
    "\n",
    "# To change font\n",
    "from matplotlib.font_manager import FontProperties\n",
    "\n",
    "font = FontProperties()\n",
    "font.set_family('serif')\n",
    "font.set_name('Times New Roman')\n",
    "font.set_style('italic')"
   ]
  },
  {
   "cell_type": "markdown",
   "metadata": {},
   "source": [
    "## Basic example of ploting 1D result"
   ]
  },
  {
   "cell_type": "code",
   "execution_count": null,
   "metadata": {},
   "outputs": [],
   "source": [
    "plt.plot(x, y, label = r\"$\\sin(x)$\", color = \"red\")\n",
    "plt.plot(x, z, \"b--\", label = r\"$\\cos(x^2)$\")\n",
    "plot(x, y, color='green', marker='o', linestyle='dashed',\n",
    "    ...      linewidth=2, markersize=12)"
   ]
  },
  {
   "cell_type": "markdown",
   "metadata": {},
   "source": [
    "## Basic example of ploting 2D figure as image"
   ]
  },
  {
   "cell_type": "code",
   "execution_count": null,
   "metadata": {},
   "outputs": [],
   "source": [
    "y,x = np.ogrid[-2:2:200j,-2:2:200j]\n",
    "z = x * np.exp(-x**2-y**2)\n",
    "extent = [np.min(x),np.max(x),np.min(y),np.max(y)]\n",
    "\n",
    "plt.imshow(z,extent=extent,cmap=cm.hot)\n",
    "plt.colorbar()\n",
    "plt.show()"
   ]
  },
  {
   "cell_type": "markdown",
   "metadata": {},
   "source": [
    "## Basic example of ploting 2D figure as surface"
   ]
  },
  {
   "cell_type": "code",
   "execution_count": null,
   "metadata": {},
   "outputs": [],
   "source": [
    "x,y = np.mgrid[-2:2:20j,-2:2:20j]\n",
    "z = x * np.exp(- x**2 - y**2)\n",
    "\n",
    "fig = plt.figure(figsize=(8,6))\n",
    "ax = fig.gca(projection='3d')\n",
    "ax.plot_surface(x,y,z,cmap=cm.ocean)\n",
    "plt.show()"
   ]
  },
  {
   "cell_type": "markdown",
   "metadata": {},
   "source": [
    "## Error-bar\n",
    "### Error bar with skeleton"
   ]
  },
  {
   "cell_type": "code",
   "execution_count": null,
   "metadata": {},
   "outputs": [],
   "source": [
    "MSE_hist_mean = np.mean(MSE_hist, 1)\n",
    "fig, ax = plt.subplots()\n",
    "fig.subplots_adjust(bottom = 0.15, left=0.2)\n",
    "plt.errorbar(ratio, \n",
    "             np.log10(MSE_hist_mean) - np.log10(30), \n",
    "             yerr = [np.log10(np.max(MSE_hist, 1)) - np.log10(MSE_hist_mean), \n",
    "                     np.log10(MSE_hist_mean) - np.log10(np.min(MSE_hist, 1))], label = 'MSE', fmt='bo--')\n",
    "ax.set_xlabel('ratio of boundary')\n",
    "ax.set_ylabel('log-error')\n",
    "plt.legend(bbox_to_anchor = (0.7, 0.9), loc = 'upper left', borderaxespad = 0.)\n",
    "plt.rcParams['savefig.dpi'] = 300\n",
    "plt.rcParams['figure.dpi'] = 300\n",
    "plt.savefig('loss-ratio1.jpg', dpi = 1000)\n",
    "plt.show()"
   ]
  },
  {
   "cell_type": "markdown",
   "metadata": {},
   "source": [
    "### Error bar with fill between"
   ]
  },
  {
   "cell_type": "code",
   "execution_count": null,
   "metadata": {},
   "outputs": [],
   "source": [
    "# Shadow covers range \n",
    "def Errorbar_log_maxmin(xaxis, data, label):\n",
    "    \n",
    "    fig, ax  = plt.subplots()\n",
    "    fig.subplots_adjust(bottom = 0.15, left=0.2)\n",
    "    n1,n2,n3 = data.shape\n",
    "    for i in range(n1):\n",
    "        MSE_hist = data[i, :, :].reshape(n2, n3)\n",
    "        MSE_hist_mean = np.mean(MSE_hist, 0)\n",
    "        ax.set_yscale(\"log\")\n",
    "        ax.plot(xaxis, MSE_hist_mean, '.-')\n",
    "        plt.fill_between(xaxis,  \n",
    "                         np.max(MSE_hist, 0), \n",
    "                         np.min(MSE_hist, 0), label = label[i], alpha=0.2)\n",
    "\n",
    "# Shadow covers [mean - std, mean + std]\n",
    "def Errorbar_log_std(xaxis, data, label):\n",
    "    \n",
    "    fig, ax  = plt.subplots()\n",
    "    fig.subplots_adjust(bottom = 0.15, left=0.2)\n",
    "    n1,n2,n3 = data.shape\n",
    "    for i in range(n1):\n",
    "        MSE_hist = data[i, :, :].reshape(n2, n3)\n",
    "        MSE_hist_mean = np.mean(MSE_hist, 0)\n",
    "        MSE_hist_var  = np.var(MSE_hist, 0)\n",
    "        ax.set_yscale(\"log\")\n",
    "        ax.plot(xaxis, MSE_hist_mean, '.-')\n",
    "        plt.fill_between(xaxis,  \n",
    "                         np.sqrt(MSE_hist_var) + MSE_hist_mean, \n",
    "                         MSE_hist_mean, label = label[i], alpha=0.2)"
   ]
  },
  {
   "cell_type": "markdown",
   "metadata": {},
   "source": [
    "## Multiplot\n",
    "### For imshow"
   ]
  },
  {
   "cell_type": "code",
   "execution_count": null,
   "metadata": {},
   "outputs": [],
   "source": [
    "fig, ((ax1, ax2), (ax3, ax4), (ax5, ax6)) = plt.subplots(nrows = 3, \n",
    "                                                         ncols = 2, \n",
    "                                                         figsize = (4, 4), \n",
    "                                                         constrained_layout = True)\n",
    "plt.rcParams['font.size'] = 8\n",
    "plt.rcParams['savefig.dpi'] = 150\n",
    "plt.rcParams['figure.dpi'] = 150\n",
    "im = ax1.imshow(NNGPK, extent = extent, \\\n",
    "           cmap = cm.hot)\n",
    "fig.colorbar(im, ax=ax1, shrink=0.6)\n",
    "ax1.set_title(\"NNGPK: n = 100\", fontsize=8)\n",
    "\n",
    "im = ax2.imshow(NTK, extent = extent, \\\n",
    "           cmap = cm.hot)\n",
    "#ax2.colorbar()\n",
    "fig.colorbar(im, ax=ax2, shrink=0.6)\n",
    "ax2.set_title(\"NTK: n = 100\", fontsize=8)"
   ]
  },
  {
   "cell_type": "markdown",
   "metadata": {},
   "source": [
    "### For plot"
   ]
  },
  {
   "cell_type": "code",
   "execution_count": null,
   "metadata": {},
   "outputs": [],
   "source": [
    "plt.close('all')\n",
    "fig = plt.figure()\n",
    "\n",
    "ax1 = plt.subplot(221)\n",
    "ax2 = plt.subplot(223)\n",
    "ax3 = plt.subplot(122)\n",
    "\n",
    "example_plot(ax1)\n",
    "example_plot(ax2)\n",
    "example_plot(ax3)\n",
    "\n",
    "plt.tight_layout()\n",
    "\n",
    "plt.close('all')\n",
    "fig = plt.figure()\n",
    "\n",
    "ax1 = plt.subplot2grid((3, 3), (0, 0))\n",
    "ax2 = plt.subplot2grid((3, 3), (0, 1), colspan=2)\n",
    "ax3 = plt.subplot2grid((3, 3), (1, 0), colspan=2, rowspan=2)\n",
    "ax4 = plt.subplot2grid((3, 3), (1, 2), rowspan=2)\n",
    "\n",
    "example_plot(ax1)\n",
    "example_plot(ax2)\n",
    "example_plot(ax3)\n",
    "example_plot(ax4)\n",
    "\n",
    "plt.tight_layout()"
   ]
  },
  {
   "cell_type": "markdown",
   "metadata": {},
   "source": [
    "## Plot fill_between figure, like a shadow, have a try!!!"
   ]
  },
  {
   "cell_type": "code",
   "execution_count": null,
   "metadata": {},
   "outputs": [],
   "source": [
    "plt.fill_between(\n",
    "    np.reshape(test_xs, (-1,)), 2 * std_dev, -2 * std_dev, alpha=0.4)"
   ]
  },
  {
   "cell_type": "markdown",
   "metadata": {},
   "source": [
    "## An interesting example for subplot"
   ]
  },
  {
   "cell_type": "code",
   "execution_count": null,
   "metadata": {},
   "outputs": [],
   "source": [
    "fig, axs = plt.subplots(3, 1, figsize=(5, 6), tight_layout=True)\n",
    "locs = ['center', 'left', 'right']\n",
    "for ax, loc in zip(axs, locs):\n",
    "    ax.plot(x1, y1)\n",
    "    ax.set_title('Title with loc at '+loc, loc=loc)\n",
    "plt.show()"
   ]
  },
  {
   "cell_type": "markdown",
   "metadata": {},
   "source": [
    "## Plot a table\n",
    "Extremely useful when summarize the numerical experiments in a table"
   ]
  },
  {
   "cell_type": "code",
   "execution_count": null,
   "metadata": {},
   "outputs": [],
   "source": [
    "for deg in range(1, 7):\n",
    "    start = time()\n",
    "    err   = np.zeros(2)\n",
    "    for i in range(10):\n",
    "        err = err + Conver(1, deg, 'u', 6, True)[0:2]\n",
    "    #print('<td>',format((time() - start)/10,'.2e'),'</td>')\n",
    "    print('<td>',format(err[0]/10,'.2e'),'</td>')\n",
    "    print('<td>',format(err[1]/10,'.2e'),'</td>')"
   ]
  },
  {
   "cell_type": "markdown",
   "metadata": {},
   "source": [
    "# Neural network"
   ]
  },
  {
   "cell_type": "markdown",
   "metadata": {},
   "source": [
    "## Initialization of neural network"
   ]
  },
  {
   "cell_type": "code",
   "execution_count": null,
   "metadata": {},
   "outputs": [],
   "source": [
    "def Init_model(layer = [1, 100, 1]):\n",
    "    class NeuralNet(nn.Module):\n",
    "        def __init__(self, layer):\n",
    "            super(NeuralNet, self).__init__()\n",
    "            nlayer    = layer.size\n",
    "            network   = []\n",
    "            for i in range(nlayer - 2):\n",
    "                network += [nn.Linear(layer[i], layer[i + 1]), nn.Sigmoid()]\n",
    "            network += [nn.Linear(layer[i + 1], layer[i + 2])]\n",
    "            self.model = nn.Sequential(*network)\n",
    "\n",
    "        def forward(self, x):\n",
    "            return self.model(x) \n",
    "    return NeuralNet\n",
    "\n",
    "def initNetParams(net):\n",
    "    '''Init net parameters.'''\n",
    "    for m in net.modules():\n",
    "        if isinstance(m, nn.Conv2d):\n",
    "            init.xavier_uniform(m.weight)\n",
    "            if m.bias:\n",
    "                init.constant(m.bias, 0)\n",
    "        elif isinstance(m, nn.BatchNorm2d):\n",
    "            init.constant(m.weight, 1)\n",
    "            init.constant(m.bias, 0)\n",
    "        elif isinstance(m, nn.Linear):\n",
    "            init.normal(m.weight, std=1e-3)\n",
    "            if m.bias:\n",
    "                init.constant(m.bias, 0)"
   ]
  },
  {
   "cell_type": "markdown",
   "metadata": {},
   "source": [
    "## More reliable random sample generation using random seed"
   ]
  },
  {
   "cell_type": "code",
   "execution_count": null,
   "metadata": {},
   "outputs": [],
   "source": [
    "#from jax import random\n",
    "key = random.PRNGKey(100)\n",
    "train_points = 5\n",
    "test_points = 50\n",
    "noise_scale = 1e-1\n",
    "\n",
    "target_fn = lambda x: np.sin(x)\n",
    "\n",
    "\n",
    "key, x_key, y_key = random.split(key, 3)\n",
    "\n",
    "train_xs = random.uniform(x_key, (train_points, 1), minval=-np.pi, maxval=np.pi)\n",
    "\n",
    "train_ys = target_fn(train_xs)\n",
    "train_ys += noise_scale * random.normal(y_key, (train_points, 1))"
   ]
  },
  {
   "cell_type": "markdown",
   "metadata": {},
   "source": [
    "## Calculate the gradient of all the parameters in a nn"
   ]
  },
  {
   "cell_type": "code",
   "execution_count": null,
   "metadata": {},
   "outputs": [],
   "source": [
    "# Return the gradient of all the parameters\n",
    "def Mygrad(model, pred):\n",
    "    model.zero_grad()\n",
    "    pred.backward(retain_graph = True)\n",
    "    grad_ = np.array([0])\n",
    "    for p in model.parameters():\n",
    "        n     = p.grad.numel()\n",
    "        grad_ = np.hstack((grad_, p.grad.reshape(n)/np.sqrt(n)))\n",
    "    model.zero_grad()       \n",
    "    return grad_"
   ]
  },
  {
   "cell_type": "markdown",
   "metadata": {},
   "source": [
    "# Numerical analysis and NPDE\n",
    "## Generate randomly sampled data and uniform grid on $[0, 1] \\times [0, 1]$\n",
    "These codes are extremely useful when handle the problem of numerical analysis and NPDE"
   ]
  },
  {
   "cell_type": "code",
   "execution_count": null,
   "metadata": {},
   "outputs": [],
   "source": [
    "def Generate_data(num_sample_int = 1000, num_sample_boundary = 100):\n",
    "    # generate samples in the interior \n",
    "    X_int = torch.rand(num_sample_int, 2) * 2 - 1\n",
    "\n",
    "    # generate samples on the boundary\n",
    "    a_1 = np.ones((1, num_sample_boundary))\n",
    "    b_1 = r.rand(1, num_sample_boundary) * 2 - 1\n",
    "    a_2 = np.ones((1, num_sample_boundary)) * (-1)\n",
    "    b_2 = r.rand(1, num_sample_boundary) * 2 - 1\n",
    "    a_3 = r.rand(1, num_sample_boundary) * 2 - 1\n",
    "    b_3 = np.ones((1, num_sample_boundary))\n",
    "    a_4 = r.rand(1, num_sample_boundary) * 2 - 1\n",
    "    b_4 = np.ones((1, num_sample_boundary)) * (-1)\n",
    "    a = np.hstack((a_1, a_2, a_3, a_4))\n",
    "    b = np.hstack((b_1, b_2, b_3, b_4))\n",
    "    X_bound = np.vstack((a, b)).T\n",
    "    X_bound = torch.from_numpy(X_bound).float()\n",
    "\n",
    "    # construct labels for interior \n",
    "    Y_int = torch.ones(num_sample_int) * 2\n",
    "\n",
    "    # construct labels for boundary\n",
    "    Y_bound = 0.5 * (a**2 + b**2).T\n",
    "    Y_bound = torch.from_numpy(Y_bound).float()\n",
    "    \n",
    "    x_int = X_int.to(device) \n",
    "    x_bound = X_bound.to(device)\n",
    "    y_int = Y_int.to(device)\n",
    "    y_bound = Y_bound.to(device)\n",
    "    return [x_int, x_bound, y_int, y_bound]\n",
    "\n",
    "def Generate_grid(meshsz = 30):\n",
    "    meshx   = np.linspace(0, 1, meshsz)\n",
    "    meshy   = np.linspace(0, 1, meshsz)\n",
    "    xx, yy  = np.meshgrid(meshx, meshy)\n",
    "    xy      = np.vstack([xx.reshape(1, meshsz * meshsz), yy.reshape(1, meshsz * meshsz)]).T\n",
    "    xy      = torch.from_numpy(xy).float()\n",
    "    xy      = xy.to(device)\n",
    "    u_true  = pow(xy, 2).sum(1) / 2\n",
    "    u_true  = u_true.reshape(meshsz, meshsz)\n",
    "    return [xy, u_true]"
   ]
  },
  {
   "cell_type": "markdown",
   "metadata": {},
   "source": [
    "## Calculate the convergence rate using linear regression"
   ]
  },
  {
   "cell_type": "code",
   "execution_count": null,
   "metadata": {},
   "outputs": [],
   "source": [
    "x       = np.linspace(2, k + 1, k)\n",
    "A       = np.vstack([x, np.ones(len(x))]).T\n",
    "m1, c   = np.linalg.lstsq(A, np.log(error[:, 0]), rcond = -1)[0]"
   ]
  },
  {
   "cell_type": "markdown",
   "metadata": {},
   "source": [
    "# Optimization"
   ]
  },
  {
   "cell_type": "markdown",
   "metadata": {},
   "source": [
    "## Optimizing a complicated function via built-in function minimize in scipy.optimize\n",
    "\\begin{itemize}\n",
    "    \\item The basic procedure to minimize a function using the optimization package of scipy is to define the function, then minimize it using minimize().\n",
    "    \\item Do not use sympy in this case, even there is differentiation, since symbolic calculation is extremely slow.\n",
    "    \\item We can also use torch to minimize the function with torhc.optim, but in this case, we can not handle much special function such as Bessel function which is not a built-in function in torch.\n",
    "    \\item Use autograd to differentiate the function.\n",
    "\\end{itemize}"
   ]
  },
  {
   "cell_type": "code",
   "execution_count": null,
   "metadata": {},
   "outputs": [],
   "source": [
    "from scipy.optimize import minimize\n",
    "def res(x):\n",
    "    return x[0]\n",
    "\n",
    "x0 = np.array([0.1,0.1,0.1])\n",
    "res = minimize(rosen, x0, method='nelder-mead',options={'xatol': 1e-1, 'disp': True,'maxiter':1000000})\n",
    "# Matlab code is: fmincon(@likelihood,[0.1, 0.1, 0.1]), where likelihood is self-implemented function"
   ]
  },
  {
   "cell_type": "markdown",
   "metadata": {},
   "source": [
    "Here is another method that combines sympy and minimization problem"
   ]
  },
  {
   "cell_type": "code",
   "execution_count": null,
   "metadata": {},
   "outputs": [],
   "source": [
    "import sympy as sp\n",
    "import mpmath as mp\n",
    "vars = sp.var('x, y, z')\n",
    "F = [x**2 + y**3 + z**4 - 6, x + y + z - 2, 3*x**2 + y - 5]\n",
    "J = sp.Matrix(F).jacobian(vars)\n",
    "f = lambda x0,y0,z0 : [Fc.subs(list(zip(vars, [x0,y0,z0]))) for Fc in F]\n",
    "Jac = lambda x0,y0,z0 : J.subs(list(zip(vars, [x0,y0,z0]))).tolist()\n",
    "start = [1, 1, 1]\n",
    "print(mp.findroot(f, start, J = Jac))"
   ]
  }
 ],
 "metadata": {
  "kernelspec": {
   "display_name": "Python 3",
   "language": "python",
   "name": "python3"
  },
  "language_info": {
   "codemirror_mode": {
    "name": "ipython",
    "version": 3
   },
   "file_extension": ".py",
   "mimetype": "text/x-python",
   "name": "python",
   "nbconvert_exporter": "python",
   "pygments_lexer": "ipython3",
   "version": "3.6.10"
  },
  "latex_envs": {
   "LaTeX_envs_menu_present": true,
   "autoclose": false,
   "autocomplete": true,
   "bibliofile": "biblio.bib",
   "cite_by": "apalike",
   "current_citInitial": 1,
   "eqLabelWithNumbers": true,
   "eqNumInitial": 1,
   "hotkeys": {
    "equation": "Ctrl-E",
    "itemize": "Ctrl-I"
   },
   "labels_anchors": false,
   "latex_user_defs": false,
   "report_style_numbering": false,
   "user_envs_cfg": false
  },
  "toc": {
   "base_numbering": 1,
   "nav_menu": {},
   "number_sections": true,
   "sideBar": true,
   "skip_h1_title": false,
   "title_cell": "Table of Contents",
   "title_sidebar": "Contents",
   "toc_cell": false,
   "toc_position": {},
   "toc_section_display": true,
   "toc_window_display": false
  },
  "varInspector": {
   "cols": {
    "lenName": 16,
    "lenType": 16,
    "lenVar": 40
   },
   "kernels_config": {
    "python": {
     "delete_cmd_postfix": "",
     "delete_cmd_prefix": "del ",
     "library": "var_list.py",
     "varRefreshCmd": "print(var_dic_list())"
    },
    "r": {
     "delete_cmd_postfix": ") ",
     "delete_cmd_prefix": "rm(",
     "library": "var_list.r",
     "varRefreshCmd": "cat(var_dic_list()) "
    }
   },
   "types_to_exclude": [
    "module",
    "function",
    "builtin_function_or_method",
    "instance",
    "_Feature"
   ],
   "window_display": false
  }
 },
 "nbformat": 4,
 "nbformat_minor": 4
}
